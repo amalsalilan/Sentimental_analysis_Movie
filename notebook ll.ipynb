{
 "cells": [
  {
   "cell_type": "code",
   "execution_count": null,
   "metadata": {},
   "outputs": [],
   "source": [
    "def main():\n",
    "    global pipeline,parameters\n",
    "    pipeline=Pipeline([\n",
    "           ('vect',TfidfVectorizer(stop_words='english')),\n",
    "           ('clf',LogisticRegression(max_iter=15000))])\n",
    "    parameters={\n",
    "            'vect__max_df':(0.25,0.5),\n",
    "            'vect__ngram_range':((1, 1),(1, 2)),\n",
    "            'vect__use_idf':(True,False),\n",
    "            'clf__C':(0.1,1,10),\n",
    "       }\n",
    "    x,y=data['Phrase'],data['Sentiment']\n",
    "    x_train,x_test,y_train,y_test=train_test_split(x,y,test_size=0.5)\n",
    "    grid_search=GridSearchCV(pipeline,parameters,n_jobs=-1,\n",
    "                        verbose=1,scoring='accuracy',cv=3)\n",
    "    grid_search.fit(x_train,y_train)\n",
    "    print ('Best score: %0.3f' % grid_search.best_score_)\n",
    "    print ('Best parameters set:')\n",
    "    best_parameters = grid_search.best_estimator_.get_params()\n",
    "    for param_name in sorted(parameters.keys()):\n",
    "           print ('\\t%s: %r' % (param_name, best_parameters[param_name]))\n",
    "\n",
    "if __name__ == '__main__':\n",
    "       main()\n",
    "     \n"
   ]
  }
 ],
 "metadata": {
  "kernelspec": {
   "display_name": "Python 3.8.10 64-bit",
   "language": "python",
   "name": "python3"
  },
  "language_info": {
   "name": "python",
   "version": "3.8.10"
  },
  "orig_nbformat": 4,
  "vscode": {
   "interpreter": {
    "hash": "916dbcbb3f70747c44a77c7bcd40155683ae19c65e1c03b4aa3499c5328201f1"
   }
  }
 },
 "nbformat": 4,
 "nbformat_minor": 2
}
